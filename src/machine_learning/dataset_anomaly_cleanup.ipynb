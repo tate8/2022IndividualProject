{
 "cells": [
  {
   "cell_type": "markdown",
   "metadata": {},
   "source": [
    "## We will try to use anomaly detection with a Gaussian Mixture Model in a reduced dimension space to remove bad training instances from our dataset\n",
    "\n",
    "### Note that this example is done in 2D for illustration purposes, but can also be done in higher dimensions."
   ]
  },
  {
   "cell_type": "code",
   "execution_count": null,
   "metadata": {},
   "outputs": [],
   "source": [
    "from umap import UMAP\n",
    "import numpy as np\n",
    "import matplotlib.pyplot as plt\n",
    "import random\n",
    "from sklearn.mixture import GaussianMixture"
   ]
  },
  {
   "cell_type": "code",
   "execution_count": null,
   "metadata": {},
   "outputs": [],
   "source": [
    "path = \"doodle_data_npy/bear.npy\"\n",
    "\n",
    "X = np.load(path)"
   ]
  },
  {
   "cell_type": "code",
   "execution_count": null,
   "metadata": {},
   "outputs": [],
   "source": [
    "%%time\n",
    "\n",
    "x_tfm = UMAP(n_components=2).fit_transform(X)"
   ]
  },
  {
   "cell_type": "code",
   "execution_count": null,
   "metadata": {},
   "outputs": [],
   "source": [
    "print(X.shape)\n",
    "print(x_tfm.shape)"
   ]
  },
  {
   "cell_type": "markdown",
   "metadata": {},
   "source": [
    "## Visualization"
   ]
  },
  {
   "cell_type": "code",
   "execution_count": null,
   "metadata": {},
   "outputs": [],
   "source": [
    "random_start = random.randint(0, X.shape[0]-10)\n",
    "num_images = 10\n",
    "for i in range(random_start, random_start+num_images):\n",
    "    plt.subplot(1, num_images, i + 1 - random_start)\n",
    "    x = X[i].reshape(28, 28)\n",
    "    plt.imshow(x, cmap=\"binary\")\n",
    "\n",
    "    plt.axis(\"off\")"
   ]
  },
  {
   "cell_type": "markdown",
   "metadata": {},
   "source": [
    "### Notice how some images look very different. These will be in different locations in the reduced dimension space. We will try to target these and remove them"
   ]
  },
  {
   "cell_type": "code",
   "execution_count": null,
   "metadata": {},
   "outputs": [],
   "source": [
    "plt.figure(figsize=(6, 6))\n",
    "plt.scatter(x_tfm[:, 0], x_tfm[:, 1], alpha=0.002)"
   ]
  },
  {
   "cell_type": "markdown",
   "metadata": {},
   "source": [
    "### Lets sample some images from the cluster on the top left, this probably holds \"bad\" images"
   ]
  },
  {
   "cell_type": "code",
   "execution_count": null,
   "metadata": {},
   "outputs": [],
   "source": [
    "x_bad = X[(x_tfm[:, 0] < 4) & (x_tfm[:, 1] > 4)]"
   ]
  },
  {
   "cell_type": "code",
   "execution_count": null,
   "metadata": {},
   "outputs": [],
   "source": [
    "num_images = 10\n",
    "for i in range(1, num_images):\n",
    "    plt.subplot(1, num_images, i + 1)\n",
    "    x = x_bad[random.randint(0, x_bad.shape[0])].reshape(28, 28)\n",
    "    plt.imshow(x, cmap=\"binary\")\n",
    "\n",
    "    plt.axis(\"off\")"
   ]
  },
  {
   "cell_type": "markdown",
   "metadata": {},
   "source": [
    "### Looks like images in this area are mostly not circles! If we remove them, the data should get much better!"
   ]
  },
  {
   "cell_type": "markdown",
   "metadata": {},
   "source": [
    "# STRATEGY\n",
    "\n",
    "#### Use a Gaussian Mixture model to  get the main cluster, and then set a threshold to remove all elements that are far away from the center of the cluster. This will remove the anomalies"
   ]
  },
  {
   "cell_type": "code",
   "execution_count": null,
   "metadata": {},
   "outputs": [],
   "source": [
    "gm = GaussianMixture(n_components=1, n_init=10)\n",
    "gm.fit(x_tfm)"
   ]
  },
  {
   "cell_type": "code",
   "execution_count": null,
   "metadata": {},
   "outputs": [],
   "source": [
    "# Any isntance located in a low-density region is considered to be an anomaly\n",
    "densities = gm.score_samples(x_tfm) # score_samples esitmates the density of the model at any given location\n",
    "# say 10% are anomalies (see https://koaning.io/til/moar-bad-labels/)\n",
    "density_threshold = np.percentile(densities, 10) \n",
    "non_anomalies = x_tfm[densities > density_threshold]\n",
    "found_anomalies = x_tfm[densities < density_threshold]\n",
    "non_anomalies_idxs = np.nonzero(densities > density_threshold)[0]"
   ]
  },
  {
   "cell_type": "code",
   "execution_count": null,
   "metadata": {},
   "outputs": [],
   "source": [
    "plt.figure(figsize=(6, 6))\n",
    "plt.title(\"Not Anomalies\")\n",
    "plt.scatter(non_anomalies[:, 0], non_anomalies[:, 1], alpha=0.002)"
   ]
  },
  {
   "cell_type": "code",
   "execution_count": null,
   "metadata": {},
   "outputs": [],
   "source": [
    "plt.figure(figsize=(6, 6))\n",
    "plt.title(\"Anomalies\")\n",
    "plt.scatter(found_anomalies[:, 0], found_anomalies[:, 1], alpha=0.002)"
   ]
  },
  {
   "cell_type": "code",
   "execution_count": null,
   "metadata": {},
   "outputs": [],
   "source": [
    "X_new = X[non_anomalies_idxs]"
   ]
  },
  {
   "cell_type": "code",
   "execution_count": null,
   "metadata": {},
   "outputs": [],
   "source": [
    "x_new_tfm = UMAP(n_components=2).fit_transform(X_new)"
   ]
  },
  {
   "cell_type": "code",
   "execution_count": null,
   "metadata": {},
   "outputs": [],
   "source": [
    "plt.figure(figsize=(6, 6))\n",
    "plt.scatter(x_new_tfm[:, 0], x_new_tfm[:, 1], alpha=0.002)"
   ]
  },
  {
   "cell_type": "code",
   "execution_count": null,
   "metadata": {},
   "outputs": [],
   "source": []
  }
 ],
 "metadata": {
  "kernelspec": {
   "display_name": "Python 3 (ipykernel)",
   "language": "python",
   "name": "python3"
  },
  "language_info": {
   "codemirror_mode": {
    "name": "ipython",
    "version": 3
   },
   "file_extension": ".py",
   "mimetype": "text/x-python",
   "name": "python",
   "nbconvert_exporter": "python",
   "pygments_lexer": "ipython3",
   "version": "3.10.8"
  }
 },
 "nbformat": 4,
 "nbformat_minor": 2
}
